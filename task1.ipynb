{
  "nbformat": 4,
  "nbformat_minor": 0,
  "metadata": {
    "colab": {
      "provenance": []
    },
    "kernelspec": {
      "name": "python3",
      "display_name": "Python 3"
    },
    "language_info": {
      "name": "python"
    }
  },
  "cells": [
    {
      "cell_type": "code",
      "source": [
        "import pandas as pd\n",
        "from sklearn.model_selection import train_test_split\n",
        "from sklearn.linear_model import LinearRegression\n",
        "from sklearn.metrics import mean_squared_error, r2_score\n",
        "\n",
        "# Load the datasets\n",
        "train_data = pd.read_csv('train.csv')\n",
        "test_data = pd.read_csv('test.csv')\n",
        "sample_submission = pd.read_csv('sample_submission.csv')\n",
        "\n",
        "# Selecting relevant features\n",
        "features = ['GrLivArea', 'BedroomAbvGr', 'FullBath']\n",
        "X = train_data[features]\n",
        "y = train_data['SalePrice']\n",
        "\n",
        "# Splitting the data into training and validation sets\n",
        "X_train, X_val, y_train, y_val = train_test_split(X, y, test_size=0.2, random_state=42)\n",
        "\n",
        "# Creating and training the linear regression model\n",
        "model = LinearRegression()\n",
        "model.fit(X_train, y_train)\n",
        "\n",
        "# Making predictions on the validation set\n",
        "y_pred = model.predict(X_val)\n",
        "\n",
        "# Evaluating the model\n",
        "mse = mean_squared_error(y_val, y_pred)\n",
        "r2 = r2_score(y_val, y_pred)\n",
        "\n",
        "print(f\"Mean Squared Error (MSE): {mse}\")\n",
        "print(f\"R² Score: {r2}\")\n",
        "\n",
        "# Making predictions on the test set\n",
        "test_predictions = model.predict(test_data[features])\n",
        "\n",
        "# Preparing the submission file\n",
        "submission = pd.DataFrame({\n",
        "    'Id': test_data['Id'],\n",
        "    'SalePrice': test_predictions\n",
        "})\n",
        "\n",
        "submission.to_csv('submission.csv', index=False)\n"
      ],
      "metadata": {
        "colab": {
          "base_uri": "https://localhost:8080/"
        },
        "id": "dTNVaHxpxMFr",
        "outputId": "35fc170a-0506-4a8d-e19e-03b07abbba38"
      },
      "execution_count": 2,
      "outputs": [
        {
          "output_type": "stream",
          "name": "stdout",
          "text": [
            "Mean Squared Error (MSE): 2806426667.247853\n",
            "R² Score: 0.6341189942328371\n"
          ]
        }
      ]
    }
  ]
}